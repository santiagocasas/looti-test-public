{
 "cells": [
  {
   "cell_type": "markdown",
   "metadata": {},
   "source": [
    "# CrossValidation: fitting formulas for Coupled Dark Energy"
   ]
  },
  {
   "cell_type": "markdown",
   "metadata": {},
   "source": [
    "## Import Packages"
   ]
  },
  {
   "cell_type": "code",
   "execution_count": 1,
   "metadata": {},
   "outputs": [],
   "source": [
    "import os\n",
    "import sys\n",
    "import numpy as np\n",
    "import pandas as pd\n",
    "import time"
   ]
  },
  {
   "cell_type": "code",
   "execution_count": 2,
   "metadata": {},
   "outputs": [],
   "source": [
    "from looti import dictlearn as dcl\n",
    "from looti import datahandle as dhl\n",
    "from looti import PlottingModule as pm\n",
    "from looti import tools as too\n",
    "from looti import automatic_validation as av"
   ]
  },
  {
   "cell_type": "code",
   "execution_count": 3,
   "metadata": {},
   "outputs": [],
   "source": [
    "%matplotlib inline\n",
    "%load_ext autoreload\n",
    "%autoreload 2\n",
    "%reload_ext autoreload"
   ]
  },
  {
   "cell_type": "markdown",
   "metadata": {},
   "source": [
    "# Import Data"
   ]
  },
  {
   "cell_type": "markdown",
   "metadata": {},
   "source": [
    "The data is imported from pandas Dataframes which have been previously created using the `read_files` module.\n",
    "The DataFrames contain the **k-grid** and the **power spectrum** at each redshift and each parameter variation, for the *extended model* and the *reference model*."
   ]
  },
  {
   "cell_type": "markdown",
   "metadata": {},
   "source": [
    "### Specify Paths"
   ]
  },
  {
   "cell_type": "markdown",
   "metadata": {},
   "source": [
    "The DataFrames of the *extented model* and the *reference model* should be stored inside the same `data_folder`. The results of the experiments(plots, interpolation functions) are stored inside `the results_folder`"
   ]
  },
  {
   "cell_type": "code",
   "execution_count": 4,
   "metadata": {},
   "outputs": [],
   "source": [
    "data_folder = '../../SimulationData/CDE_fitting_formulae/'\n",
    "results_folder = './results/'"
   ]
  },
  {
   "cell_type": "code",
   "execution_count": 5,
   "metadata": {},
   "outputs": [],
   "source": [
    "too.mkdirp(results_folder)    ## If directory does not exists, it is created here"
   ]
  },
  {
   "cell_type": "markdown",
   "metadata": {},
   "source": [
    "### Load CoupledDE dataframes"
   ]
  },
  {
   "cell_type": "markdown",
   "metadata": {},
   "source": [
    "The user has **two options** : provide the power **spectra** of the *extended* and *reference model* **OR** provide directly the **ratios** between these two models.\n",
    "\n",
    "**Case 1** (spectra): user provides :\n",
    "- datafile_ext : filename containing the power spectra of the extended model\n",
    "- datafile_ref : filename containing the power spectra of the reference model (i.e. LCDM)\n",
    "\n",
    "**Case 2** (ratios): user provides :\n",
    "- datafile_ext : filename containing the ratios between the extended model and the reference model"
   ]
  },
  {
   "cell_type": "code",
   "execution_count": 6,
   "metadata": {},
   "outputs": [],
   "source": [
    "###Name of the file for the external input data, without the extension\n",
    "datafile_ext = 'EXP_Pk_32_betas_60_redzs'\n",
    "###Name of the file for the LCDM input data\n",
    "datafile_ref = 'LCDM_Pk_60_redzs'"
   ]
  },
  {
   "cell_type": "markdown",
   "metadata": {},
   "source": [
    "The following functions load the data into a object `emulation_data`. When the ratios are directly provide the user must indicate : `ratio_mode=True`\n",
    "The function `calculate_ratio_by_redshifts` computes the ratio between the *extended* and *reference* model at each **redshit** passed as argument."
   ]
  },
  {
   "cell_type": "code",
   "execution_count": 7,
   "metadata": {},
   "outputs": [
    {
     "name": "stderr",
     "output_type": "stream",
     "text": [
      "/Users/raphaelbaena/opt/anaconda3/lib/python3.7/site-packages/looti-0.0.0-py3.7.egg/looti/datahandle.py:245: PerformanceWarning: indexing past lexsort depth may impact performance.\n"
     ]
    }
   ],
   "source": [
    "## Specify paths and the number of free cosmological parameters to interpolate\n",
    "emulation_data = dhl.DataHandle( datafile_ext, data_folder, datafile_ref, num_parameters=1) \n",
    "emulation_data.read_csv_pandas() \n",
    "emulation_data.calculate_ratio_by_redshifts(emulation_data.z_vals, normalize=False)"
   ]
  },
  {
   "cell_type": "markdown",
   "metadata": {},
   "source": [
    "## Calculate power spectra ratios at all redshifts available"
   ]
  },
  {
   "cell_type": "markdown",
   "metadata": {},
   "source": [
    "Available **redshifts** are stored in the attribute `z_vals`"
   ]
  },
  {
   "cell_type": "code",
   "execution_count": 8,
   "metadata": {},
   "outputs": [
    {
     "data": {
      "text/plain": [
       "array([0.  , 0.05, 0.1 , 0.15, 0.2 , 0.25, 0.3 , 0.35, 0.4 , 0.45, 0.5 ,\n",
       "       0.55, 0.6 , 0.65, 0.7 , 0.75, 0.8 , 0.85, 0.9 , 0.95, 1.  , 1.05,\n",
       "       1.1 , 1.15, 1.2 , 1.25, 1.3 , 1.35, 1.4 , 1.45, 1.5 , 1.55, 1.6 ,\n",
       "       1.65, 1.7 , 1.75, 1.8 , 1.85, 1.9 , 1.95, 2.  , 2.05, 2.1 , 2.15,\n",
       "       2.2 , 2.25, 2.3 , 2.35, 2.4 , 2.45, 2.5 , 2.55, 2.6 , 2.65, 2.7 ,\n",
       "       2.75, 2.8 , 2.85, 2.9 , 2.95])"
      ]
     },
     "execution_count": 8,
     "metadata": {},
     "output_type": "execute_result"
    }
   ],
   "source": [
    "# Available redshifts\n",
    "emulation_data.z_vals"
   ]
  },
  {
   "cell_type": "markdown",
   "metadata": {},
   "source": [
    "The function `calculate_ratio_by_redshifts` computes the ratio between the *extended* and *reference* model at each **redshit** passed as argument.\n",
    "\n",
    "The user can optionally decide to **normalize** the data by passing `normalize=False`. This option will force all the ratios to be equal to 1 at k = `pos_norm`"
   ]
  },
  {
   "cell_type": "code",
   "execution_count": 9,
   "metadata": {},
   "outputs": [],
   "source": [
    "## Set normalize=False, since Fitting Formulae are already normalized\n",
    "## First argument contains all the redshifts at which simulations are available\n",
    "emulation_data.calculate_ratio_by_redshifts(emulation_data.z_vals, normalize=False)"
   ]
  },
  {
   "cell_type": "markdown",
   "metadata": {},
   "source": [
    "# Import hyperparameters"
   ]
  },
  {
   "cell_type": "markdown",
   "metadata": {},
   "source": [
    "The `Crossvalidation_folder`should contains the results of crossvalidations for different methods.\n",
    "Each of the results are stored into a csv file, *for e.g GP_hyperparameter_file*.\n",
    "\n",
    "The crossvalidation can be perfomed by a crossvalidation script that can be run on plateform such as Galileo."
   ]
  },
  {
   "cell_type": "code",
   "execution_count": 10,
   "metadata": {},
   "outputs": [],
   "source": [
    "##Folder with Crossvalidation's results \n",
    "Crossvalidation_folder = \"../../SimulationData/CrossValidationResults/CDE_fitting_formulae/\" \n",
    "##file for each methods\n",
    "    ##GP:\n",
    "GP_hyperparameter_file = \"GP_crossvalidation_FittFormula.csv\"\n",
    "    ##PCA:\n",
    "PCA_hyperparameter_file = \"PCA_crossvalidation_FittFormula.csv\""
   ]
  },
  {
   "cell_type": "code",
   "execution_count": 11,
   "metadata": {},
   "outputs": [],
   "source": [
    "## Read the CSV FILE\n",
    "GP_hyperparameter = pd.read_csv(Crossvalidation_folder+GP_hyperparameter_file )\n",
    "PCA_hyperparameter = pd.read_csv(Crossvalidation_folder+ PCA_hyperparameter_file)"
   ]
  },
  {
   "cell_type": "markdown",
   "metadata": {},
   "source": [
    "## Define Parameters "
   ]
  },
  {
   "cell_type": "markdown",
   "metadata": {},
   "source": [
    "### Define a mask"
   ]
  },
  {
   "cell_type": "markdown",
   "metadata": {},
   "source": [
    "The user can defined a **mask**. Usually, the mask is simply ignoring extremal values `(max_k_grid ,min_k_grid )`."
   ]
  },
  {
   "cell_type": "code",
   "execution_count": 12,
   "metadata": {},
   "outputs": [],
   "source": [
    "##Change here the value of the grid\n",
    "max_k_grid = 10 ##any k above this value would then be ignored\n",
    "min_k_grid = 0.1##any k below this value would then be ignored\n",
    "\n",
    "linkgrid = emulation_data.lin_k_grid # Linear k-grid \n",
    "#The mask is defined here. The user should not change anything, except if a personalised mask is wanted.\n",
    "mask = [k for k in np.where(linkgrid <max_k_grid)[0] if k in np.where(linkgrid >min_k_grid)[0]] \n",
    "GLOBAL_applymask = True ##False would ignore the mask"
   ]
  },
  {
   "cell_type": "markdown",
   "metadata": {},
   "source": [
    "### Define RMSE's hyperparameters "
   ]
  },
  {
   "cell_type": "markdown",
   "metadata": {},
   "source": [
    "The **RMSE** is computed by the function `av.RMSE_dictionary` that returns a frame with the RMSE associated with the number of training vectors. That number vary between the number of minimum and maximum training vectors specified by the user.\n",
    "\n",
    "\n",
    "At each call of the function, a **random set of test vectors** is chosen. Thus different calls of the function would not lead to the same plots. In order to have relevant statics, these plots can be averaged over different realisations. The user can choose the number of realisations with `n_run`"
   ]
  },
  {
   "cell_type": "code",
   "execution_count": 13,
   "metadata": {},
   "outputs": [],
   "source": [
    "n_run = 1 ## The number of realisations for the RMSE. Large numbers lead to better statistics."
   ]
  },
  {
   "cell_type": "code",
   "execution_count": 14,
   "metadata": {},
   "outputs": [],
   "source": [
    "wanted_ntest = 10 ## Number of test vectors\n",
    "\n",
    "max_ntrain = 20 ## Maximum number of train vectors \n",
    "min_ntrain = 3 ## Minimum number of train vectors \n",
    "\n",
    "redshift_index =[0] ##Redshift indice \n",
    "\n",
    "GP_crossval_df_dict_mingroup = {\"theo\":GP_hyperparameter} ##GP hyperparameters'dictionary \n",
    "PCA_crossval_df_dict_mingroup = {\"theo\":PCA_hyperparameter}##PCA hyperparameters'dictionary \n",
    "\n",
    "##The user must be specified which methods should not be turned off\n",
    "turnoff_PCA = False \n",
    "turnoff_GP = False"
   ]
  },
  {
   "cell_type": "markdown",
   "metadata": {},
   "source": [
    "### Compute RMSE(s)"
   ]
  },
  {
   "cell_type": "code",
   "execution_count": 15,
   "metadata": {},
   "outputs": [
    {
     "name": "stderr",
     "output_type": "stream",
     "text": [
      "/Users/raphaelbaena/opt/anaconda3/lib/python3.7/site-packages/looti-0.0.0-py3.7.egg/looti/datahandle.py:336: PerformanceWarning: indexing past lexsort depth may impact performance.\n"
     ]
    },
    {
     "name": "stdout",
     "output_type": "stream",
     "text": [
      "Warning : trying to interpolate a extramal value\n",
      "('number of wanted test vectors', 10)\n",
      "Warning : trying to interpolate a extramal value\n",
      "('redshift used for training', array([0.]))\n",
      "('redshfit used for testing', array([0.]))\n",
      "Train Size 4\n",
      "numtr 3\n",
      "++++theo\n",
      "PCA :  1\n",
      "('Shape of PCA matrix: (4, 1)',)\n",
      "('Number of PCA components: 1',)\n"
     ]
    },
    {
     "name": "stderr",
     "output_type": "stream",
     "text": [
      "/Users/raphaelbaena/opt/anaconda3/lib/python3.7/site-packages/looti-0.0.0-py3.7.egg/looti/datahandle.py:336: PerformanceWarning: indexing past lexsort depth may impact performance.\n"
     ]
    },
    {
     "name": "stdout",
     "output_type": "stream",
     "text": [
      "('number of wanted test vectors', 10)\n",
      "Warning : trying to interpolate a extramal value\n",
      "('redshift used for training', array([0.]))\n",
      "('redshfit used for testing', array([0.]))\n",
      "Train Size 5\n",
      "numtr 4\n",
      "++++theo\n",
      "PCA :  4\n",
      "('Shape of PCA matrix: (5, 4)',)\n",
      "('Number of PCA components: 4',)\n"
     ]
    },
    {
     "name": "stderr",
     "output_type": "stream",
     "text": [
      "/Users/raphaelbaena/opt/anaconda3/lib/python3.7/site-packages/looti-0.0.0-py3.7.egg/looti/datahandle.py:336: PerformanceWarning: indexing past lexsort depth may impact performance.\n"
     ]
    },
    {
     "name": "stdout",
     "output_type": "stream",
     "text": [
      "('number of wanted test vectors', 10)\n",
      "Warning : trying to interpolate a extramal value\n",
      "('redshift used for training', array([0.]))\n",
      "('redshfit used for testing', array([0.]))\n",
      "Train Size 6\n",
      "numtr 5\n",
      "++++theo\n",
      "PCA :  5\n",
      "('Shape of PCA matrix: (6, 5)',)\n",
      "('Number of PCA components: 5',)\n"
     ]
    },
    {
     "name": "stderr",
     "output_type": "stream",
     "text": [
      "/Users/raphaelbaena/opt/anaconda3/lib/python3.7/site-packages/looti-0.0.0-py3.7.egg/looti/datahandle.py:336: PerformanceWarning: indexing past lexsort depth may impact performance.\n"
     ]
    },
    {
     "name": "stdout",
     "output_type": "stream",
     "text": [
      "('number of wanted test vectors', 10)\n",
      "Warning : trying to interpolate a extramal value\n",
      "('redshift used for training', array([0.]))\n",
      "('redshfit used for testing', array([0.]))\n",
      "Train Size 7\n",
      "numtr 6\n",
      "++++theo\n",
      "PCA :  2\n",
      "('Shape of PCA matrix: (7, 2)',)\n",
      "('Number of PCA components: 2',)\n"
     ]
    },
    {
     "name": "stderr",
     "output_type": "stream",
     "text": [
      "/Users/raphaelbaena/opt/anaconda3/lib/python3.7/site-packages/looti-0.0.0-py3.7.egg/looti/datahandle.py:336: PerformanceWarning: indexing past lexsort depth may impact performance.\n"
     ]
    },
    {
     "name": "stdout",
     "output_type": "stream",
     "text": [
      "('number of wanted test vectors', 10)\n",
      "Warning : trying to interpolate a extramal value\n",
      "('redshift used for training', array([0.]))\n",
      "('redshfit used for testing', array([0.]))\n",
      "Train Size 8\n",
      "numtr 7\n",
      "++++theo\n",
      "PCA :  7\n",
      "('Shape of PCA matrix: (8, 7)',)\n",
      "('Number of PCA components: 7',)\n"
     ]
    },
    {
     "name": "stderr",
     "output_type": "stream",
     "text": [
      "/Users/raphaelbaena/opt/anaconda3/lib/python3.7/site-packages/looti-0.0.0-py3.7.egg/looti/datahandle.py:336: PerformanceWarning: indexing past lexsort depth may impact performance.\n"
     ]
    },
    {
     "name": "stdout",
     "output_type": "stream",
     "text": [
      "('number of wanted test vectors', 10)\n",
      "Warning : trying to interpolate a extramal value\n",
      "('redshift used for training', array([0.]))\n",
      "('redshfit used for testing', array([0.]))\n",
      "Train Size 9\n",
      "numtr 8\n",
      "++++theo\n",
      "PCA :  6\n",
      "('Shape of PCA matrix: (9, 6)',)\n",
      "('Number of PCA components: 6',)\n"
     ]
    },
    {
     "name": "stderr",
     "output_type": "stream",
     "text": [
      "/Users/raphaelbaena/opt/anaconda3/lib/python3.7/site-packages/looti-0.0.0-py3.7.egg/looti/datahandle.py:336: PerformanceWarning: indexing past lexsort depth may impact performance.\n"
     ]
    },
    {
     "name": "stdout",
     "output_type": "stream",
     "text": [
      "('number of wanted test vectors', 10)\n",
      "Warning : trying to interpolate a extramal value\n",
      "('redshift used for training', array([0.]))\n",
      "('redshfit used for testing', array([0.]))\n",
      "Train Size 10\n",
      "numtr 9\n",
      "++++theo\n",
      "PCA :  5\n",
      "('Shape of PCA matrix: (10, 5)',)\n",
      "('Number of PCA components: 5',)\n"
     ]
    },
    {
     "name": "stderr",
     "output_type": "stream",
     "text": [
      "/Users/raphaelbaena/opt/anaconda3/lib/python3.7/site-packages/looti-0.0.0-py3.7.egg/looti/datahandle.py:336: PerformanceWarning: indexing past lexsort depth may impact performance.\n"
     ]
    },
    {
     "name": "stdout",
     "output_type": "stream",
     "text": [
      "('number of wanted test vectors', 10)\n",
      "Warning : trying to interpolate a extramal value\n",
      "('redshift used for training', array([0.]))\n",
      "('redshfit used for testing', array([0.]))\n",
      "Train Size 11\n",
      "numtr 10\n",
      "++++theo\n",
      "PCA :  4\n",
      "('Shape of PCA matrix: (11, 4)',)\n",
      "('Number of PCA components: 4',)\n"
     ]
    },
    {
     "name": "stderr",
     "output_type": "stream",
     "text": [
      "/Users/raphaelbaena/opt/anaconda3/lib/python3.7/site-packages/looti-0.0.0-py3.7.egg/looti/datahandle.py:336: PerformanceWarning: indexing past lexsort depth may impact performance.\n"
     ]
    },
    {
     "name": "stdout",
     "output_type": "stream",
     "text": [
      "('number of wanted test vectors', 10)\n",
      "Warning : trying to interpolate a extramal value\n",
      "('redshift used for training', array([0.]))\n",
      "('redshfit used for testing', array([0.]))\n",
      "Train Size 12\n",
      "numtr 11\n",
      "++++theo\n",
      "PCA :  10\n",
      "('Shape of PCA matrix: (12, 10)',)\n",
      "('Number of PCA components: 10',)\n"
     ]
    },
    {
     "name": "stderr",
     "output_type": "stream",
     "text": [
      "/Users/raphaelbaena/opt/anaconda3/lib/python3.7/site-packages/looti-0.0.0-py3.7.egg/looti/datahandle.py:336: PerformanceWarning: indexing past lexsort depth may impact performance.\n"
     ]
    },
    {
     "name": "stdout",
     "output_type": "stream",
     "text": [
      "('number of wanted test vectors', 10)\n",
      "Warning : trying to interpolate a extramal value\n",
      "('redshift used for training', array([0.]))\n",
      "('redshfit used for testing', array([0.]))\n",
      "Train Size 13\n",
      "numtr 12\n",
      "++++theo\n",
      "PCA :  11\n",
      "('Shape of PCA matrix: (13, 11)',)\n",
      "('Number of PCA components: 11',)\n"
     ]
    },
    {
     "name": "stderr",
     "output_type": "stream",
     "text": [
      "/Users/raphaelbaena/opt/anaconda3/lib/python3.7/site-packages/looti-0.0.0-py3.7.egg/looti/datahandle.py:336: PerformanceWarning: indexing past lexsort depth may impact performance.\n"
     ]
    },
    {
     "name": "stdout",
     "output_type": "stream",
     "text": [
      "('number of wanted test vectors', 10)\n",
      "Warning : trying to interpolate a extramal value\n",
      "('redshift used for training', array([0.]))\n",
      "('redshfit used for testing', array([0.]))\n",
      "Train Size 14\n",
      "numtr 13\n",
      "++++theo\n",
      "PCA :  9\n",
      "('Shape of PCA matrix: (14, 9)',)\n",
      "('Number of PCA components: 9',)\n"
     ]
    },
    {
     "name": "stderr",
     "output_type": "stream",
     "text": [
      "/Users/raphaelbaena/opt/anaconda3/lib/python3.7/site-packages/looti-0.0.0-py3.7.egg/looti/datahandle.py:336: PerformanceWarning: indexing past lexsort depth may impact performance.\n"
     ]
    },
    {
     "name": "stdout",
     "output_type": "stream",
     "text": [
      "('number of wanted test vectors', 10)\n",
      "Warning : trying to interpolate a extramal value\n",
      "('redshift used for training', array([0.]))\n",
      "('redshfit used for testing', array([0.]))\n",
      "Train Size 15\n",
      "numtr 14\n",
      "++++theo\n",
      "PCA :  14\n",
      "('Shape of PCA matrix: (15, 14)',)\n",
      "('Number of PCA components: 14',)\n"
     ]
    },
    {
     "name": "stderr",
     "output_type": "stream",
     "text": [
      "/Users/raphaelbaena/opt/anaconda3/lib/python3.7/site-packages/looti-0.0.0-py3.7.egg/looti/datahandle.py:336: PerformanceWarning: indexing past lexsort depth may impact performance.\n"
     ]
    },
    {
     "name": "stdout",
     "output_type": "stream",
     "text": [
      "('number of wanted test vectors', 10)\n",
      "Warning : trying to interpolate a extramal value\n",
      "('redshift used for training', array([0.]))\n",
      "('redshfit used for testing', array([0.]))\n",
      "Train Size 16\n",
      "numtr 15\n",
      "++++theo\n",
      "PCA :  14\n",
      "('Shape of PCA matrix: (16, 14)',)\n",
      "('Number of PCA components: 14',)\n"
     ]
    },
    {
     "name": "stderr",
     "output_type": "stream",
     "text": [
      "/Users/raphaelbaena/opt/anaconda3/lib/python3.7/site-packages/looti-0.0.0-py3.7.egg/looti/datahandle.py:336: PerformanceWarning: indexing past lexsort depth may impact performance.\n"
     ]
    },
    {
     "name": "stdout",
     "output_type": "stream",
     "text": [
      "('number of wanted test vectors', 10)\n",
      "Warning : trying to interpolate a extramal value\n",
      "('redshift used for training', array([0.]))\n",
      "('redshfit used for testing', array([0.]))\n",
      "Train Size 17\n",
      "numtr 16\n",
      "++++theo\n",
      "PCA :  12\n",
      "('Shape of PCA matrix: (17, 12)',)\n",
      "('Number of PCA components: 12',)\n"
     ]
    },
    {
     "name": "stderr",
     "output_type": "stream",
     "text": [
      "/Users/raphaelbaena/opt/anaconda3/lib/python3.7/site-packages/looti-0.0.0-py3.7.egg/looti/datahandle.py:336: PerformanceWarning: indexing past lexsort depth may impact performance.\n"
     ]
    },
    {
     "name": "stdout",
     "output_type": "stream",
     "text": [
      "('number of wanted test vectors', 10)\n",
      "Warning : trying to interpolate a extramal value\n",
      "('redshift used for training', array([0.]))\n",
      "('redshfit used for testing', array([0.]))\n",
      "Train Size 18\n",
      "numtr 17\n",
      "++++theo\n",
      "PCA :  17\n",
      "('Shape of PCA matrix: (18, 17)',)\n",
      "('Number of PCA components: 17',)\n"
     ]
    },
    {
     "name": "stderr",
     "output_type": "stream",
     "text": [
      "/Users/raphaelbaena/opt/anaconda3/lib/python3.7/site-packages/looti-0.0.0-py3.7.egg/looti/datahandle.py:336: PerformanceWarning: indexing past lexsort depth may impact performance.\n"
     ]
    },
    {
     "name": "stdout",
     "output_type": "stream",
     "text": [
      "('number of wanted test vectors', 10)\n",
      "Warning : trying to interpolate a extramal value\n",
      "('redshift used for training', array([0.]))\n",
      "('redshfit used for testing', array([0.]))\n",
      "Train Size 19\n",
      "numtr 18\n",
      "++++theo\n",
      "PCA :  15\n",
      "('Shape of PCA matrix: (19, 15)',)\n",
      "('Number of PCA components: 15',)\n"
     ]
    },
    {
     "name": "stderr",
     "output_type": "stream",
     "text": [
      "/Users/raphaelbaena/opt/anaconda3/lib/python3.7/site-packages/looti-0.0.0-py3.7.egg/looti/datahandle.py:336: PerformanceWarning: indexing past lexsort depth may impact performance.\n"
     ]
    },
    {
     "name": "stdout",
     "output_type": "stream",
     "text": [
      "('number of wanted test vectors', 10)\n",
      "Warning : trying to interpolate a extramal value\n",
      "('redshift used for training', array([0.]))\n",
      "('redshfit used for testing', array([0.]))\n",
      "Train Size 20\n",
      "numtr 19\n",
      "++++theo\n",
      "PCA :  17\n",
      "('Shape of PCA matrix: (20, 17)',)\n",
      "('Number of PCA components: 17',)\n"
     ]
    }
   ],
   "source": [
    "list_datatest =[]\n",
    "for i in range(n_run):\n",
    "    datatest = av.RMSE_dictionary(emulation_data=emulation_data,\n",
    "                                  wanted_ntest=wanted_ntest,\n",
    "                                  max_ntrain=max_ntrain,min_ntrain=min_ntrain,\n",
    "                                  redshift_index = redshift_index,\n",
    "                                  GP_crossval_df_dict_mingroup=GP_crossval_df_dict_mingroup,\n",
    "                                  turnoff_GP = False,\n",
    "                                  PCA_crossval_df_dict_mingroup=PCA_crossval_df_dict_mingroup,\n",
    "                                  turnoff_PCA=False,\n",
    "                                  number_of_splits=1,\n",
    "                                  thinning=1,mask=mask ,split_run_ind = 0,GLOBAL_applymask = GLOBAL_applymask )\n",
    "    list_datatest.append(datatest)"
   ]
  },
  {
   "cell_type": "markdown",
   "metadata": {},
   "source": [
    "## Plot the average RMSE for each method"
   ]
  },
  {
   "cell_type": "markdown",
   "metadata": {},
   "source": [
    "The RMSE is plotted by `plot_RMSE` function. If `n_run` > 1 then the RMSEs are average over the different realisation."
   ]
  },
  {
   "cell_type": "code",
   "execution_count": 16,
   "metadata": {},
   "outputs": [
    {
     "name": "stderr",
     "output_type": "stream",
     "text": [
      "/Users/raphaelbaena/opt/anaconda3/lib/python3.7/site-packages/looti-0.0.0-py3.7.egg/looti/PlottingModule.py:324: UserWarning: Legend does not support None instances.\n",
      "A proxy artist may be used instead.\n",
      "See: http://matplotlib.org/users/legend_guide.html#creating-artists-specifically-for-adding-to-the-legend-aka-proxy-artists\n",
      "/Users/raphaelbaena/opt/anaconda3/lib/python3.7/site-packages/looti-0.0.0-py3.7.egg/looti/PlottingModule.py:328: UserWarning: Legend does not support None instances.\n",
      "A proxy artist may be used instead.\n",
      "See: http://matplotlib.org/users/legend_guide.html#creating-artists-specifically-for-adding-to-the-legend-aka-proxy-artists\n"
     ]
    },
    {
     "data": {
      "image/png": "[encoded data removed]",
      "text/plain": [
       "<Figure size 1600x960 with 2 Axes>"
      ]
     },
     "metadata": {},
     "output_type": "display_data"
    }
   ],
   "source": [
    "pm.plot_RMSE(0,list_datatest,noi='theo',turnoff_PCA=turnoff_PCA,turnoff_GP=turnoff_GP,\n",
    "             y_scale_log= True )##log scale for the y axis)"
   ]
  }
 ],
 "metadata": {
  "hide_input": false,
  "kernelspec": {
   "display_name": "Python 3",
   "language": "python",
   "name": "python3"
  },
  "language_info": {
   "codemirror_mode": {
    "name": "ipython",
    "version": 3
   },
   "file_extension": ".py",
   "mimetype": "text/x-python",
   "name": "python",
   "nbconvert_exporter": "python",
   "pygments_lexer": "ipython3",
   "version": "3.7.7"
  },
  "toc": {
   "base_numbering": 1,
   "nav_menu": {},
   "number_sections": true,
   "sideBar": true,
   "skip_h1_title": false,
   "title_cell": "Table of Contents",
   "title_sidebar": "Contents",
   "toc_cell": false,
   "toc_position": {},
   "toc_section_display": true,
   "toc_window_display": false
  }
 },
 "nbformat": 4,
 "nbformat_minor": 2
}
