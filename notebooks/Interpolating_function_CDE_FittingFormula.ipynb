{
 "cells": [
  {
   "cell_type": "markdown",
   "metadata": {},
   "source": [
    "# Exporting Interpolating Object for Fitting Formula"
   ]
  },
  {
   "cell_type": "markdown",
   "metadata": {},
   "source": [
    "## Import Packages"
   ]
  },
  {
   "cell_type": "code",
   "execution_count": null,
   "metadata": {},
   "outputs": [],
   "source": [
    "import os\n",
    "import sys\n",
    "import numpy as np\n",
    "import pandas as pd\n",
    "import time"
   ]
  },
  {
   "cell_type": "code",
   "execution_count": null,
   "metadata": {},
   "outputs": [],
   "source": [
    "from looti import dictlearn as dcl\n",
    "from looti import datahandle as dhl\n",
    "from looti import PlottingModule as pm\n",
    "\n",
    "from looti import tools as too\n",
    "from looti import PlottingModule as pm\n",
    "from looti import interpolatingObject as ito"
   ]
  },
  {
   "cell_type": "code",
   "execution_count": null,
   "metadata": {},
   "outputs": [],
   "source": [
    "import pickle\n",
    "import joblib"
   ]
  },
  {
   "cell_type": "code",
   "execution_count": null,
   "metadata": {},
   "outputs": [],
   "source": [
    "%matplotlib inline\n",
    "%load_ext autoreload\n",
    "%autoreload 2\n",
    "%reload_ext autoreload"
   ]
  },
  {
   "cell_type": "markdown",
   "metadata": {},
   "source": [
    "# Import Data"
   ]
  },
  {
   "cell_type": "markdown",
   "metadata": {},
   "source": [
    "### Specify Paths"
   ]
  },
  {
   "cell_type": "markdown",
   "metadata": {},
   "source": [
    "The DataFrames of the *extented model* and the *reference model* should be stored inside the same `data_folder`. The results of the experiments(plots, interpolation functions) are stored inside `the results_folder`"
   ]
  },
  {
   "cell_type": "code",
   "execution_count": null,
   "metadata": {},
   "outputs": [],
   "source": [
    "data_folder = '../../SimulationData/CDE_fitting_formulae/'\n",
    "results_folder = './results/'"
   ]
  },
  {
   "cell_type": "code",
   "execution_count": null,
   "metadata": {},
   "outputs": [],
   "source": [
    "too.mkdirp(results_folder)    ## If directory does not exists, it is created here"
   ]
  },
  {
   "cell_type": "code",
   "execution_count": null,
   "metadata": {},
   "outputs": [],
   "source": [
    "###Name of the file for the external input data, without the extension\n",
    "datafile_ext = 'EXP_Pk_32_betas_60_redzs'\n",
    "###Name of the file for the LCDM input data\n",
    "datafile_ref = 'LCDM_Pk_60_redzs'"
   ]
  },
  {
   "cell_type": "markdown",
   "metadata": {},
   "source": [
    "The following functions load the data into a object `emulation_data`. When the ratios are directly provide the user must indicate : `ratio_mode=True`"
   ]
  },
  {
   "cell_type": "code",
   "execution_count": null,
   "metadata": {},
   "outputs": [],
   "source": [
    "emulation_data = dhl.DataHandle( datafile_ext, data_folder, datafile_ref, num_parameters=1) \n",
    "emulation_data.read_csv_pandas() "
   ]
  },
  {
   "cell_type": "markdown",
   "metadata": {},
   "source": [
    "## Calculate power spectra ratios at all redshifts available"
   ]
  },
  {
   "cell_type": "markdown",
   "metadata": {},
   "source": [
    "Available **redshifts** are stored in the attribute `z_vals`"
   ]
  },
  {
   "cell_type": "code",
   "execution_count": null,
   "metadata": {},
   "outputs": [],
   "source": [
    "# Available redshifts\n",
    "emulation_data.z_vals"
   ]
  },
  {
   "cell_type": "markdown",
   "metadata": {},
   "source": [
    "The function `calculate_ratio_by_redshifts` computes the ratio between the *extended* and *reference* model at each **redshit** passed as argument.\n",
    "\n",
    "The user can optionally decide to **normalize** the data by passing `normalize=False`. This option will force all the ratios to be equal to 1 at k = `pos_norm`"
   ]
  },
  {
   "cell_type": "code",
   "execution_count": null,
   "metadata": {},
   "outputs": [],
   "source": [
    "## Set normalize=False, since Fitting Formulae are already normalized\n",
    "## First argument contains all the redshifts at which simulations are available\n",
    "emulation_data.calculate_ratio_by_redshifts(emulation_data.z_vals,normalize=False)"
   ]
  },
  {
   "cell_type": "markdown",
   "metadata": {},
   "source": [
    "# Define Parameters"
   ]
  },
  {
   "cell_type": "markdown",
   "metadata": {},
   "source": [
    "Available parameters are stored in the attribute `emulation_data.extparam_vals`"
   ]
  },
  {
   "cell_type": "code",
   "execution_count": null,
   "metadata": {
    "scrolled": true
   },
   "outputs": [],
   "source": [
    "### Available parameters \n",
    "emulation_data.extparam_vals;"
   ]
  },
  {
   "cell_type": "code",
   "execution_count": null,
   "metadata": {},
   "outputs": [],
   "source": [
    "emulation_data.max_train"
   ]
  },
  {
   "cell_type": "code",
   "execution_count": null,
   "metadata": {},
   "outputs": [],
   "source": [
    "### Available parameters \n",
    "n_train = 30 # Number of training vectors without taking acount the extrema "
   ]
  },
  {
   "cell_type": "markdown",
   "metadata": {},
   "source": [
    "#  Define Classes (will be in a module)"
   ]
  },
  {
   "cell_type": "code",
   "execution_count": null,
   "metadata": {},
   "outputs": [],
   "source": [
    "npca = 30"
   ]
  },
  {
   "cell_type": "code",
   "execution_count": null,
   "metadata": {},
   "outputs": [],
   "source": [
    "filename='../interpolating_objects/CDEfittings-interpObj-new.sav'"
   ]
  },
  {
   "cell_type": "code",
   "execution_count": null,
   "metadata": {},
   "outputs": [],
   "source": [
    "if not too.fileexists(filename):\n",
    "    Interpolation = ito.Interpolating_function()\n",
    "\n",
    "    for i,redshift in enumerate(emulation_data.z_requested):\n",
    "\n",
    "        ratios_predicted , emulation_data,interpolation_function = dcl.Predict_ratio(emulation_data,Operator = \"PCA\",\n",
    "                                                              train_noise = 1e-3, ##noise for the GP's kernel\n",
    "                                                              gp_n_rsts = 10,##times allowed to restart the optimiser\n",
    "                                                              ncomp=npca , ##number of components\n",
    "                                                              gp_const = 1, ##Constant for the RBF kernel\n",
    "                                                              gp_length = 1 , ## Length for  GP \n",
    "                                                              interp_type='GP', ##kind of interpolator,e.g int1d or GP \n",
    "                                                              n_splits = 1, ##number of splits\n",
    "                                                              n_train=n_train, \n",
    "                                                               n_test=0,\n",
    "                                                             train_redshift_indices = [i],\n",
    "                                                             test_redshift_indices = [i],##indices of the test vectors\n",
    "                                                             min_k =1e-2,max_k=10e1,return_interpolator=True)\n",
    "        function = ito.Interpolating_function_redshift (emulation_data,interpolation_function,redshift,normalize=True)\n",
    "        Interpolation.redshift_available.append(redshift)\n",
    "        Interpolation.list_interpolation_function.append(function)\n",
    "    with open(filename, 'wb') as f:\n",
    "        joblib.dump(Interpolation, f)\n",
    "else:\n",
    "    print(\"File with interpolation object exists: \", filename)\n",
    "    \n",
    "print(\"Loading file from joblib\")\n",
    "with open(filename, 'rb') as f:\n",
    "    Interpolation_loaded = joblib.load(f)\n",
    "    "
   ]
  },
  {
   "cell_type": "markdown",
   "metadata": {},
   "source": [
    "# Load and save the inperpolation function"
   ]
  },
  {
   "cell_type": "code",
   "execution_count": null,
   "metadata": {},
   "outputs": [],
   "source": [
    "linkgrid=np.logspace(np.log10(0.012), np.log10(5.0), 100)\n",
    "linkgrid;"
   ]
  },
  {
   "cell_type": "code",
   "execution_count": null,
   "metadata": {},
   "outputs": [],
   "source": [
    "for bb in [0.05, 0.1, 0.12]:\n",
    "    plt.semilogx(linkgrid,\n",
    "             [Interpolation_loaded.predict(0.0,k,[bb]) for k in linkgrid ],\n",
    "                label='beta='+str(bb))\n",
    "    plt.semilogx(linkgrid,\n",
    "             [Interpolation_loaded.predict(1.0,k,[bb]) for k in linkgrid ],\n",
    "                ls='--', label='z=1.0, beta='+str(bb))\n",
    "plt.legend()"
   ]
  },
  {
   "cell_type": "code",
   "execution_count": null,
   "metadata": {},
   "outputs": [],
   "source": [
    "#plt.semilogx(np.power(10,emulation_data.masked_k_grid),emulation_data.matrix_datalearn_dict['theo']['train'])"
   ]
  },
  {
   "cell_type": "markdown",
   "metadata": {},
   "source": [
    "#  Load cosmological packages"
   ]
  },
  {
   "cell_type": "code",
   "execution_count": null,
   "metadata": {},
   "outputs": [],
   "source": [
    "import emcee"
   ]
  },
  {
   "cell_type": "code",
   "execution_count": null,
   "metadata": {},
   "outputs": [],
   "source": [
    "import pyccl as ccl"
   ]
  },
  {
   "cell_type": "code",
   "execution_count": null,
   "metadata": {},
   "outputs": [],
   "source": [
    "from multiprocessing import Pool"
   ]
  },
  {
   "cell_type": "code",
   "execution_count": null,
   "metadata": {},
   "outputs": [],
   "source": [
    "Omega_m  = 0.32\n",
    "Omega_b = 0.048\n",
    "ns =0.95\n",
    "bias =2.\n",
    "h=0.70\n",
    "As109=2.2\n",
    "sigma8=0.8"
   ]
  },
  {
   "cell_type": "code",
   "execution_count": null,
   "metadata": {},
   "outputs": [],
   "source": [
    "cosmo = ccl.Cosmology(Omega_c=Omega_m-Omega_b,\n",
    "                       Omega_b=Omega_b,\n",
    "                       h=h,\n",
    "                       #A_s=As109*10**(-9),\n",
    "                       sigma8=sigma8,\n",
    "                       n_s=ns,\n",
    "                       transfer_function='eisenstein_hu',\n",
    "                       matter_power_spectrum='halofit')"
   ]
  },
  {
   "cell_type": "code",
   "execution_count": null,
   "metadata": {},
   "outputs": [],
   "source": [
    "ccl.power.linear_matter_power(cosmo, 0.1, 1.0)"
   ]
  },
  {
   "cell_type": "code",
   "execution_count": null,
   "metadata": {},
   "outputs": [],
   "source": [
    "linkgrid=np.logspace(np.log10(0.012), np.log10(5.0), 100)"
   ]
  },
  {
   "cell_type": "code",
   "execution_count": null,
   "metadata": {},
   "outputs": [],
   "source": []
  },
  {
   "cell_type": "code",
   "execution_count": null,
   "metadata": {},
   "outputs": [],
   "source": [
    "pklin_ccl=np.array([ccl.power.linear_matter_power(cosmo, kk, 1.0) for kk in linkgrid])\n",
    "pknonlin_ccl=np.array([ccl.power.nonlin_matter_power(cosmo, kk, 1.0) for kk in linkgrid])"
   ]
  },
  {
   "cell_type": "code",
   "execution_count": null,
   "metadata": {},
   "outputs": [],
   "source": [
    "plt.loglog(linkgrid,pklin_ccl)\n",
    "plt.loglog(linkgrid,pknonlin_ccl)"
   ]
  },
  {
   "cell_type": "code",
   "execution_count": null,
   "metadata": {},
   "outputs": [],
   "source": [
    "truth_beta=0.1"
   ]
  },
  {
   "cell_type": "code",
   "execution_count": null,
   "metadata": {},
   "outputs": [],
   "source": [
    "def power_CDE(k_array, power_ref=None, extra_param=None, redshift=0.):\n",
    "    Rofbeta = np.array([Interpolation_loaded.predict(redshift,k,[extra_param]) for k in k_array ])\n",
    "    pnonlin_beta = Rofbeta*power_ref\n",
    "    return pnonlin_beta"
   ]
  },
  {
   "cell_type": "code",
   "execution_count": null,
   "metadata": {},
   "outputs": [],
   "source": [
    "plt.loglog(linkgrid,pklin_ccl, label='linear')\n",
    "plt.loglog(linkgrid,pknonlin_ccl, label='non-linear')\n",
    "plt.loglog(linkgrid, power_CDE(linkgrid,\n",
    "                               power_ref=pknonlin_ccl,extra_param=0.1,\n",
    "                               redshift=1.0),  label='non-linear-beta')\n",
    "plt.legend()"
   ]
  },
  {
   "cell_type": "code",
   "execution_count": null,
   "metadata": {},
   "outputs": [],
   "source": [
    "#plt.loglog(linkgrid,pklin_ccl, label='linear')\n",
    "plt.semilogx(linkgrid,power_CDE(linkgrid,\n",
    "                               power_ref=pknonlin_ccl,extra_param=0.1,\n",
    "                               redshift=1.0)/pknonlin_ccl, label='beta enhancement')\n",
    "#plt.loglog(linkgrid, pnonlin_beta, label='non-linear-beta')\n",
    "plt.legend()"
   ]
  },
  {
   "cell_type": "code",
   "execution_count": null,
   "metadata": {},
   "outputs": [],
   "source": [
    "def fiducial_power(cosmo_param):\n",
    "    zfix=0.5\n",
    "    afix = 1/(1+zfix)\n",
    "    Omega_m, beta = cosmo_param\n",
    "    Omega_b = 0.048\n",
    "    ns =0.95\n",
    "    bias =2.\n",
    "    h=0.70\n",
    "    As109=2.2\n",
    "    sigma8=0.8\n",
    "    \n",
    "    kbins=np.logspace(np.log10(0.012), np.log10(5.0), 31)\n",
    "    kspace=0.5*(kbins[1:] + kbins[:-1])\n",
    "    \n",
    "    cosmo = ccl.Cosmology(Omega_c=Omega_m-Omega_b,\n",
    "                       Omega_b=Omega_b,\n",
    "                       h=h,\n",
    "                       #A_s=As109*10**(-9),\n",
    "                       sigma8=sigma8,\n",
    "                       n_s=ns,\n",
    "                       transfer_function='eisenstein_hu',\n",
    "                       matter_power_spectrum='halofit')\n",
    "    \n",
    "    \n",
    "    pknonlin_ccl=np.array([ccl.power.nonlin_matter_power(cosmo, kk, afix) for kk in kspace])\n",
    "    pknonlin_beta=power_CDE(kspace,power_ref=pknonlin_ccl,extra_param=beta,\n",
    "                        redshift=zfix)\n",
    "    \n",
    "    return pknonlin_beta, kbins, kspace"
   ]
  },
  {
   "cell_type": "code",
   "execution_count": null,
   "metadata": {},
   "outputs": [],
   "source": [
    "truth_beta"
   ]
  },
  {
   "cell_type": "code",
   "execution_count": null,
   "metadata": {},
   "outputs": [],
   "source": [
    "truth_omegam=0.32"
   ]
  },
  {
   "cell_type": "code",
   "execution_count": null,
   "metadata": {},
   "outputs": [],
   "source": [
    "pknlfid, kbins, kspace =  fiducial_power([truth_omegam,truth_beta])"
   ]
  },
  {
   "cell_type": "code",
   "execution_count": null,
   "metadata": {},
   "outputs": [],
   "source": [
    "#plt.loglog(kspace,pknonlin_ccl, label='non-linear')\n",
    "plt.loglog(kspace, pknlfid,  label='non-linear-beta obs truth')\n",
    "plt.legend()"
   ]
  },
  {
   "cell_type": "code",
   "execution_count": null,
   "metadata": {},
   "outputs": [],
   "source": [
    "np.savetxt(\"./results/pk_CDE_FittingFormula-observed-truth.txt\", \n",
    "           np.column_stack([kspace,pknlfid]), \n",
    "           header='z=0.5,  beta=0.1, pk_nonlin=halofit, [k]=Mpc^-1')"
   ]
  },
  {
   "cell_type": "code",
   "execution_count": null,
   "metadata": {},
   "outputs": [],
   "source": [
    "arr=np.loadtxt(\"./results/pk_CDE_FittingFormula-observed-truth.txt\")\n",
    "arr.shape"
   ]
  },
  {
   "cell_type": "code",
   "execution_count": null,
   "metadata": {},
   "outputs": [],
   "source": [
    "def get_bounds():\n",
    "    \"\"\"\n",
    "    Theoretical or numerical bounds on parameters\n",
    "    \"\"\"\n",
    "    bounds = [\n",
    "         (0.1, 0.5),     # Omega_m\n",
    "         (0.05, 0.15)      # beta\n",
    "    ]\n",
    "    return np.array(bounds)"
   ]
  },
  {
   "cell_type": "code",
   "execution_count": null,
   "metadata": {},
   "outputs": [],
   "source": [
    "def log_prior(cosmo_param):\n",
    "    \"\"\" \n",
    "    Sets the prior functions\n",
    "    \"\"\"\n",
    "\n",
    "    Omega_m, beta = cosmo_param\n",
    "\n",
    "    # Get bounds\n",
    "    bounds = get_bounds()\n",
    "\n",
    "    if bounds[0][0] < Omega_m < bounds[0][1] and bounds[1][0] < beta < bounds[1][1]:\n",
    "        return 0.0 \n",
    "    return -np.inf"
   ]
  },
  {
   "cell_type": "code",
   "execution_count": null,
   "metadata": {},
   "outputs": [],
   "source": []
  },
  {
   "cell_type": "code",
   "execution_count": null,
   "metadata": {},
   "outputs": [],
   "source": [
    "def log_likelihood(cosmo_param, pk_obs, inv_cov):\n",
    "    \"\"\"\n",
    "    defines the log likelihood\n",
    "    \"\"\"\n",
    "    pknlfid, kbins, kspace =  fiducial_power(cosmo_param)\n",
    "    \n",
    "    x = pk_obs - pknlfid\n",
    "    return -0.5* (x.T @ inv_cov @ x)"
   ]
  },
  {
   "cell_type": "code",
   "execution_count": null,
   "metadata": {},
   "outputs": [],
   "source": [
    "def log_probability(cosmo_param, pk_obs, inv_cov):\n",
    "    \"\"\"\n",
    "    \"\"\"\n",
    "\n",
    "    lp = log_prior(cosmo_param)\n",
    "\n",
    "    if not np.isfinite(lp):\n",
    "        return -np.inf\n",
    "    \n",
    "    return lp + log_likelihood(cosmo_param, pk_obs, inv_cov)"
   ]
  },
  {
   "cell_type": "code",
   "execution_count": null,
   "metadata": {},
   "outputs": [],
   "source": [
    "def get_cov(cosmo_param):\n",
    "    Volume = 50*(1000)**3\n",
    "    ngal = 10**(-3)\n",
    "    factor = 4*(np.pi**2)\n",
    "    pnonlinfid, kbins, kspace = fiducial_power(cosmo_param)\n",
    "    deltak=np.diff(kbins)\n",
    "    cc1=Volume*kspace**2*deltak\n",
    "    cc2=factor*(pnonlinfid+(1/ngal))**2\n",
    "    cov=np.diag(cc2/cc1)\n",
    "    return cov"
   ]
  },
  {
   "cell_type": "code",
   "execution_count": null,
   "metadata": {},
   "outputs": [],
   "source": [
    "def run_emcee_mp(nsample=1000):\n",
    "    \"\"\"\n",
    "    run MCMC for the parameters\n",
    "    \"\"\"\n",
    "    param_dict ={}\n",
    "   \n",
    "    obs_vec = np.loadtxt(\"./results/pk_CDE_FittingFormula-observed-truth.txt\")\n",
    "    obs_vec=obs_vec[:,1]\n",
    "    \n",
    "    cov_simple = get_cov([0.32,0.1])\n",
    "    print(np.linalg.cond(cov_simple))\n",
    "    \n",
    "    inv_cov = np.linalg.inv(cov_simple)\n",
    "    previous_best = np.array([0.3, 0.09])\n",
    "    \n",
    "    ndim = len(previous_best)\n",
    "\n",
    "    pos = previous_best + 1e-3 * np.random.randn(16, ndim)\n",
    "    nwalkers, ndim = pos.shape\n",
    "\n",
    "    #with Pool() as pool:\n",
    "    sampler = emcee.EnsembleSampler(nwalkers, ndim, log_probability, args=(obs_vec, inv_cov)) #, pool=pool)\n",
    "    sampler.run_mcmc(pos, nsample, progress=True)\n",
    "\n",
    "    return sampler"
   ]
  },
  {
   "cell_type": "code",
   "execution_count": null,
   "metadata": {},
   "outputs": [],
   "source": [
    "sample = run_emcee_mp(1000)"
   ]
  },
  {
   "cell_type": "code",
   "execution_count": null,
   "metadata": {},
   "outputs": [],
   "source": [
    "fig, axes = plt.subplots(2, figsize=(10, 7), sharex=True)\n",
    "samples = sample.get_chain()\n",
    "labels = [\"Om\", \"beta\"]\n",
    "for i in range(ndim):\n",
    "    ax = axes[i]\n",
    "    ax.plot(samples[:, :, i], \"k\", alpha=0.3)\n",
    "    ax.set_xlim(0, len(samples))\n",
    "    ax.set_ylabel(labels[i])\n",
    "    ax.yaxis.set_label_coords(-0.1, 0.5)\n",
    "\n",
    "axes[-1].set_xlabel(\"step number\");"
   ]
  },
  {
   "cell_type": "code",
   "execution_count": null,
   "metadata": {},
   "outputs": [],
   "source": [
    "#sample = run_emcee_mp(100)"
   ]
  },
  {
   "cell_type": "code",
   "execution_count": null,
   "metadata": {},
   "outputs": [],
   "source": []
  }
 ],
 "metadata": {
  "hide_input": false,
  "kernelspec": {
   "display_name": "Python 3",
   "language": "python",
   "name": "python3"
  },
  "language_info": {
   "codemirror_mode": {
    "name": "ipython",
    "version": 3
   },
   "file_extension": ".py",
   "mimetype": "text/x-python",
   "name": "python",
   "nbconvert_exporter": "python",
   "pygments_lexer": "ipython3",
   "version": "3.7.1"
  },
  "toc": {
   "base_numbering": 1,
   "nav_menu": {},
   "number_sections": true,
   "sideBar": true,
   "skip_h1_title": false,
   "title_cell": "Table of Contents",
   "title_sidebar": "Contents",
   "toc_cell": false,
   "toc_position": {},
   "toc_section_display": true,
   "toc_window_display": false
  }
 },
 "nbformat": 4,
 "nbformat_minor": 4
}
