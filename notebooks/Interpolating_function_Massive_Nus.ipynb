{
 "cells": [
  {
   "cell_type": "markdown",
   "metadata": {},
   "source": [
    "# Emulating the data for MassiveNus"
   ]
  },
  {
   "cell_type": "markdown",
   "metadata": {},
   "source": [
    "## Import Packages"
   ]
  },
  {
   "cell_type": "code",
   "execution_count": 1,
   "metadata": {},
   "outputs": [],
   "source": [
    "import os\n",
    "import sys\n",
    "import numpy as np\n",
    "import pandas as pd\n",
    "import time"
   ]
  },
  {
   "cell_type": "code",
   "execution_count": 2,
   "metadata": {},
   "outputs": [],
   "source": [
    "from looti import dictlearn as dcl\n",
    "from looti import datahandle as dhl\n",
    "from looti import PlottingModule as pm\n",
    "\n",
    "from looti import tools as too\n",
    "from looti import PlottingModule as pm\n",
    "from looti import interpolatingObject as ito"
   ]
  },
  {
   "cell_type": "code",
   "execution_count": 17,
   "metadata": {},
   "outputs": [],
   "source": [
    "import pickle"
   ]
  },
  {
   "cell_type": "code",
   "execution_count": 3,
   "metadata": {},
   "outputs": [
    {
     "name": "stdout",
     "output_type": "stream",
     "text": [
      "The autoreload extension is already loaded. To reload it, use:\n",
      "  %reload_ext autoreload\n"
     ]
    }
   ],
   "source": [
    "%matplotlib inline\n",
    "%load_ext autoreload\n",
    "%autoreload 2\n",
    "%reload_ext autoreload"
   ]
  },
  {
   "cell_type": "markdown",
   "metadata": {},
   "source": [
    "# Import Data"
   ]
  },
  {
   "cell_type": "markdown",
   "metadata": {},
   "source": [
    "The data is imported from pandas Dataframes which have been previously created using the `read_files` module.\n",
    "The DataFrames contain the **k-grid** and the **power spectrum** at each redshift and each parameter variation, for the *extended model* and the *reference model*."
   ]
  },
  {
   "cell_type": "markdown",
   "metadata": {},
   "source": [
    "### Specify Paths"
   ]
  },
  {
   "cell_type": "markdown",
   "metadata": {},
   "source": [
    "The DataFrames of the *extented model* and the *reference model* should be stored inside the same `data_folder`. The results of the experiments(plots, interpolation functions) are stored inside `the results_folder`"
   ]
  },
  {
   "cell_type": "code",
   "execution_count": 4,
   "metadata": {},
   "outputs": [],
   "source": [
    "data_folder = '../../SimulationData/Massive_Nus/'\n",
    "results_folder = './results/'"
   ]
  },
  {
   "cell_type": "code",
   "execution_count": 5,
   "metadata": {},
   "outputs": [],
   "source": [
    "too.mkdirp(results_folder)    ## If directory does not exists, it is created here"
   ]
  },
  {
   "cell_type": "markdown",
   "metadata": {},
   "source": [
    "### Load MassiveNus dataframes"
   ]
  },
  {
   "cell_type": "markdown",
   "metadata": {},
   "source": [
    "The user has **two options** : provide the power **spectra** of the *extended* and *reference model* **OR** provide directly the **ratios** between these two models.\n",
    "\n",
    "**Case 1** (spectra): user provides :\n",
    "- datafile_ext : filename containing the power spectra of the extended model\n",
    "- datafile_ref : filename containing the power spectra of the reference model (i.e. LCDM)\n",
    "\n",
    "**Case 2** (ratios): user provides :\n",
    "- datafile_ext : filename containing the ratios between the extended model and the reference model"
   ]
  },
  {
   "cell_type": "code",
   "execution_count": 6,
   "metadata": {},
   "outputs": [],
   "source": [
    "###Name of the file for the external input data, without the extension\n",
    "datafile_ext = 'Massive_Nus'\n",
    "###Name of the file for the LCDM input data\n",
    "datafile_ref = 'Massive_Nus_LCDM'"
   ]
  },
  {
   "cell_type": "markdown",
   "metadata": {},
   "source": [
    "The following functions load the data into a object `emulation_data`. When the ratios are directly provide the user must indicate : `ratio_mode=True`"
   ]
  },
  {
   "cell_type": "code",
   "execution_count": 7,
   "metadata": {},
   "outputs": [],
   "source": [
    "emulation_data = dhl.DataHandle( datafile_ext, data_folder, datafile_ref, num_parameters=3) \n",
    "emulation_data.read_csv_pandas() "
   ]
  },
  {
   "cell_type": "markdown",
   "metadata": {},
   "source": [
    "## Calculate power spectra ratios at all redshifts available"
   ]
  },
  {
   "cell_type": "markdown",
   "metadata": {},
   "source": [
    "Available **redshifts** are stored in the attribute `z_vals`"
   ]
  },
  {
   "cell_type": "code",
   "execution_count": 8,
   "metadata": {},
   "outputs": [
    {
     "data": {
      "text/plain": [
       "array([0.    , 0.2632, 0.5263, 0.7895, 1.0526, 1.3158, 1.5789, 1.8421,\n",
       "       2.1053, 2.3684, 2.6316, 2.8947, 3.1579, 3.4211, 3.6842, 3.9474,\n",
       "       4.2105, 4.4737, 4.7368, 5.    ])"
      ]
     },
     "execution_count": 8,
     "metadata": {},
     "output_type": "execute_result"
    }
   ],
   "source": [
    "# Available redshifts\n",
    "emulation_data.z_vals"
   ]
  },
  {
   "cell_type": "markdown",
   "metadata": {},
   "source": [
    "The function `calculate_ratio_by_redshifts` computes the ratio between the *extended* and *reference* model at each **redshit** passed as argument.\n",
    "\n",
    "The user can optionally decide to **normalize** the data by passing `normalize=False`. This option will force all the ratios to be equal to 1 at k = `pos_norm`"
   ]
  },
  {
   "cell_type": "code",
   "execution_count": 9,
   "metadata": {},
   "outputs": [],
   "source": [
    "## Set normalize=False, since Fitting Formulae are already normalized\n",
    "## First argument contains all the redshifts at which simulations are available\n",
    "emulation_data.calculate_ratio_by_redshifts(emulation_data.z_vals,normalize=True)"
   ]
  },
  {
   "cell_type": "markdown",
   "metadata": {},
   "source": [
    "# Define Parameters"
   ]
  },
  {
   "cell_type": "markdown",
   "metadata": {},
   "source": [
    "Available parameters are stored in the attribute `emulation_data.extparam_vals`"
   ]
  },
  {
   "cell_type": "code",
   "execution_count": 10,
   "metadata": {
    "scrolled": true
   },
   "outputs": [
    {
     "data": {
      "text/plain": [
       "array([[0.06271, 0.38154, 2.2004 ],\n",
       "       [0.06522, 0.28205, 1.8826 ],\n",
       "       [0.06773, 0.41591, 1.6231 ],\n",
       "       [0.07024, 0.20235, 2.3075 ],\n",
       "       [0.07275, 0.32826, 2.2883 ],\n",
       "       [0.07526, 0.33551, 1.5659 ],\n",
       "       [0.07778, 0.25966, 2.4333 ],\n",
       "       [0.0803 , 0.27832, 2.3824 ],\n",
       "       [0.08282, 0.27575, 1.8292 ],\n",
       "       [0.08535, 0.31316, 1.9913 ],\n",
       "       [0.08788, 0.29264, 1.7376 ],\n",
       "       [0.09041, 0.28447, 2.1757 ],\n",
       "       [0.09295, 0.31553, 2.4949 ],\n",
       "       [0.0955 , 0.35898, 2.4624 ],\n",
       "       [0.09805, 0.30056, 1.9744 ],\n",
       "       [0.1    , 0.3    , 2.1    ],\n",
       "       [0.10061, 0.27958, 2.0161 ],\n",
       "       [0.10318, 0.39765, 2.2607 ],\n",
       "       [0.10575, 0.30509, 1.9117 ],\n",
       "       [0.10833, 0.28327, 2.3595 ],\n",
       "       [0.11092, 0.37629, 2.0404 ],\n",
       "       [0.11351, 0.18409, 1.7932 ],\n",
       "       [0.11612, 0.30851, 1.8056 ],\n",
       "       [0.11874, 0.31434, 2.0079 ],\n",
       "       [0.12136, 0.34568, 1.9483 ],\n",
       "       [0.124  , 0.30282, 2.3174 ],\n",
       "       [0.12665, 0.27035, 1.9658 ],\n",
       "       [0.12931, 0.29831, 2.2342 ],\n",
       "       [0.13198, 0.25432, 1.2886 ],\n",
       "       [0.13467, 0.34384, 2.0324 ],\n",
       "       [0.13737, 0.35641, 1.6678 ],\n",
       "       [0.14008, 0.30395, 2.1198 ],\n",
       "       [0.14281, 0.31673, 2.1596 ],\n",
       "       [0.14556, 0.26894, 2.1839 ],\n",
       "       [0.14832, 0.26132, 1.8724 ],\n",
       "       [0.1511 , 0.35177, 2.2429 ],\n",
       "       [0.15389, 0.31198, 2.0484 ],\n",
       "       [0.15671, 0.25794, 2.1356 ],\n",
       "       [0.15954, 0.23187, 1.862  ],\n",
       "       [0.1624 , 0.33106, 2.1039 ],\n",
       "       [0.16527, 0.30622, 2.2171 ],\n",
       "       [0.16817, 0.26749, 1.9211 ],\n",
       "       [0.17109, 0.30736, 2.4475 ],\n",
       "       [0.17404, 0.32042, 2.0564 ],\n",
       "       [0.17701, 0.25238, 2.0644 ],\n",
       "       [0.18001, 0.29944, 1.6465 ],\n",
       "       [0.18303, 0.33868, 2.0243 ],\n",
       "       [0.18608, 0.27174, 2.5322 ],\n",
       "       [0.18917, 0.33708, 2.5769 ],\n",
       "       [0.19228, 0.25616, 2.2517 ],\n",
       "       [0.19543, 0.32425, 1.9022 ],\n",
       "       [0.19861, 0.22808, 1.6872 ],\n",
       "       [0.20183, 0.24598, 2.5535 ],\n",
       "       [0.20508, 0.29491, 2.0961 ],\n",
       "       [0.20837, 0.29378, 2.2978 ],\n",
       "       [0.21171, 0.31918, 2.9114 ],\n",
       "       [0.21508, 0.27705, 1.5292 ],\n",
       "       [0.21851, 0.29034, 1.9303 ],\n",
       "       [0.22198, 0.32295, 1.9393 ],\n",
       "       [0.2255 , 0.32965, 2.4068 ],\n",
       "       [0.22907, 0.36478, 2.3276 ],\n",
       "       [0.2327 , 0.34762, 1.4826 ],\n",
       "       [0.23638, 0.3882 , 2.1921 ],\n",
       "       [0.24013, 0.24823, 2.3944 ],\n",
       "       [0.24394, 0.28802, 2.3708 ],\n",
       "       [0.24782, 0.31795, 2.2789 ],\n",
       "       [0.25177, 0.26601, 1.9571 ],\n",
       "       [0.2558 , 0.24359, 2.1436 ],\n",
       "       [0.25991, 0.29605, 2.6708 ],\n",
       "       [0.26411, 0.34206, 2.4781 ],\n",
       "       [0.2684 , 0.30169, 2.1118 ],\n",
       "       [0.27278, 0.29149, 1.7219 ],\n",
       "       [0.27728, 0.32556, 2.0802 ],\n",
       "       [0.28188, 0.27444, 2.2087 ],\n",
       "       [0.28661, 0.26292, 1.8405 ],\n",
       "       [0.29147, 0.31082, 2.2697 ],\n",
       "       [0.29647, 0.23522, 1.8176 ],\n",
       "       [0.30162, 0.21846, 2.4198 ],\n",
       "       [0.30694, 0.36813, 2.5128 ],\n",
       "       [0.31244, 0.2118 , 2.6341 ],\n",
       "       [0.31814, 0.25036, 2.0882 ],\n",
       "       [0.32406, 0.33399, 1.7525 ],\n",
       "       [0.33021, 0.33251, 1.9996 ],\n",
       "       [0.33664, 0.28918, 2.1277 ],\n",
       "       [0.34337, 0.24102, 2.2256 ],\n",
       "       [0.35044, 0.26449, 2.1676 ],\n",
       "       [0.35789, 0.34964, 1.7802 ],\n",
       "       [0.36578, 0.28082, 1.7051 ],\n",
       "       [0.37417, 0.29718, 2.7836 ],\n",
       "       [0.38317, 0.28566, 1.4164 ],\n",
       "       [0.39287, 0.2731 , 1.8925 ],\n",
       "       [0.40343, 0.35402, 1.5966 ],\n",
       "       [0.41504, 0.30966, 2.3486 ],\n",
       "       [0.428  , 0.28684, 2.0723 ],\n",
       "       [0.44273, 0.3269 , 2.6034 ],\n",
       "       [0.45988, 0.22371, 1.7667 ],\n",
       "       [0.48062, 0.34034, 2.1516 ],\n",
       "       [0.50723, 0.23825, 2.7174 ],\n",
       "       [0.54543, 0.36175, 2.338  ],\n",
       "       [0.6    , 0.3    , 2.1    ],\n",
       "       [0.62036, 0.32168, 1.9829 ]])"
      ]
     },
     "execution_count": 10,
     "metadata": {},
     "output_type": "execute_result"
    }
   ],
   "source": [
    "### Available parameters \n",
    "emulation_data.extparam_vals"
   ]
  },
  {
   "cell_type": "code",
   "execution_count": 12,
   "metadata": {},
   "outputs": [],
   "source": [
    "### Available parameters \n",
    "n_train = 80 # Number of training vectors without taking acount the extrema \n",
    "n_test = 1 # Number of test vectors without taking acount the extrema\n",
    "n_splits = 1  # Number of splits\n",
    "test_indices=[[1]]  ## List of list of indices, one list per split"
   ]
  },
  {
   "cell_type": "code",
   "execution_count": 13,
   "metadata": {},
   "outputs": [],
   "source": [
    "emulation_data.calculate_data_split(n_train=n_train, ##number of training vectors/ redshift\n",
    "                                    n_test=n_test, ##number of test vectors\n",
    "                                    verbosity=0,\n",
    "                                    manual_split=True,\n",
    "                                    test_indices=test_indices,\n",
    "                                    train_redshift_indices=[0],##Indices of the redshifts used for the train vect.\n",
    "                                    test_redshift_indices=[0]) ##Indices of the redshifts used for the test vect."
   ]
  },
  {
   "cell_type": "markdown",
   "metadata": {},
   "source": [
    "#  Define Classes (will be in a module)"
   ]
  },
  {
   "cell_type": "code",
   "execution_count": 15,
   "metadata": {},
   "outputs": [],
   "source": [
    "npca = 80"
   ]
  },
  {
   "cell_type": "code",
   "execution_count": 16,
   "metadata": {},
   "outputs": [
    {
     "name": "stdout",
     "output_type": "stream",
     "text": [
      "('Shape of PCA matrix: (82, 80)',)\n",
      "('Number of PCA components: 80',)\n",
      "('Shape of PCA matrix: (84, 80)',)\n",
      "('Number of PCA components: 80',)\n",
      "('Shape of PCA matrix: (86, 80)',)\n",
      "('Number of PCA components: 80',)\n",
      "('Shape of PCA matrix: (88, 80)',)\n",
      "('Number of PCA components: 80',)\n",
      "('Shape of PCA matrix: (90, 80)',)\n",
      "('Number of PCA components: 80',)\n",
      "('Shape of PCA matrix: (92, 80)',)\n",
      "('Number of PCA components: 80',)\n",
      "('Shape of PCA matrix: (94, 80)',)\n",
      "('Number of PCA components: 80',)\n",
      "('Shape of PCA matrix: (96, 80)',)\n",
      "('Number of PCA components: 80',)\n",
      "('Shape of PCA matrix: (98, 80)',)\n",
      "('Number of PCA components: 80',)\n",
      "('Shape of PCA matrix: (100, 80)',)\n",
      "('Number of PCA components: 80',)\n",
      "('Shape of PCA matrix: (100, 80)',)\n",
      "('Number of PCA components: 80',)\n",
      "('Shape of PCA matrix: (100, 80)',)\n",
      "('Number of PCA components: 80',)\n",
      "('Shape of PCA matrix: (100, 80)',)\n",
      "('Number of PCA components: 80',)\n",
      "('Shape of PCA matrix: (100, 80)',)\n",
      "('Number of PCA components: 80',)\n",
      "('Shape of PCA matrix: (100, 80)',)\n",
      "('Number of PCA components: 80',)\n",
      "('Shape of PCA matrix: (100, 80)',)\n",
      "('Number of PCA components: 80',)\n",
      "('Shape of PCA matrix: (100, 80)',)\n",
      "('Number of PCA components: 80',)\n",
      "('Shape of PCA matrix: (100, 80)',)\n",
      "('Number of PCA components: 80',)\n",
      "('Shape of PCA matrix: (100, 80)',)\n",
      "('Number of PCA components: 80',)\n",
      "('Shape of PCA matrix: (100, 80)',)\n",
      "('Number of PCA components: 80',)\n"
     ]
    }
   ],
   "source": [
    "Interpolation = ito.Interpolating_function()\n",
    "\n",
    "for i,redshift in enumerate(emulation_data.z_requested):\n",
    "\n",
    "    ratios_predicted , emulation_data,interpolation_function = dcl.Predict_ratio(emulation_data,Operator = \"PCA\",\n",
    "                                                          train_noise = 1e-3, ##noise for the GP's kernel\n",
    "                                                          gp_n_rsts = 10,##times allowed to restart the optimiser\n",
    "                                                          ncomp=npca , ##number of components\n",
    "                                                          gp_const = 1, ##Constant for the RBF kernel\n",
    "                                                          gp_length = 1 , ## Length for  GP \n",
    "                                                          interp_type='GP', ##kind of interpolator,e.g int1d or GP \n",
    "                                                          n_splits = 1, ##number of splits\n",
    "                                                          test_indices=test_indices,\n",
    "                                                         train_redshift_indices = [i],\n",
    "                                                         test_redshift_indices = [i],##indices of the test vectors\n",
    "                                                         min_k =1e-2,max_k=10e1,return_interpolator=True)\n",
    "    function = ito.Interpolating_function_redshift (emulation_data,interpolation_function,redshift,normalize=True)\n",
    "    Interpolation.redshift_available.append(redshift)\n",
    "    Interpolation.list_interpolation_function.append(function)\n",
    "    "
   ]
  },
  {
   "cell_type": "markdown",
   "metadata": {},
   "source": [
    "# Load and save the inperpolation function"
   ]
  },
  {
   "cell_type": "code",
   "execution_count": 18,
   "metadata": {},
   "outputs": [],
   "source": [
    "with open('interpolating_function_Massive_Nus', 'wb') as f:\n",
    "    pickle.dump(Interpolation, f)"
   ]
  },
  {
   "cell_type": "code",
   "execution_count": 19,
   "metadata": {},
   "outputs": [],
   "source": [
    "with open('interpolating_function_Massive_Nus', 'rb') as f:\n",
    "    Interpolation_loaded = pickle.load(f)"
   ]
  },
  {
   "cell_type": "code",
   "execution_count": 20,
   "metadata": {},
   "outputs": [
    {
     "data": {
      "text/plain": [
       "[<matplotlib.lines.Line2D at 0x7fe8bafc8198>]"
      ]
     },
     "execution_count": 20,
     "metadata": {},
     "output_type": "execute_result"
    },
    {
     "data": {
      "image/png": "[encoded data removed]",
      "text/plain": [
       "<Figure size 432x288 with 1 Axes>"
      ]
     },
     "metadata": {
      "needs_background": "light"
     },
     "output_type": "display_data"
    }
   ],
   "source": [
    "plt.semilogx(np.power(10,emulation_data.masked_k_grid),[Interpolation_loaded.predict(0.0,k,[0.06271,0.38154,2.2004]) for k in np.power(10,emulation_data.masked_k_grid) ])"
   ]
  },
  {
   "cell_type": "code",
   "execution_count": 22,
   "metadata": {},
   "outputs": [],
   "source": [
    "#plt.semilogx(np.power(10,emulation_data.masked_k_grid),emulation_data.matrix_datalearn_dict['theo']['train'])"
   ]
  },
  {
   "cell_type": "code",
   "execution_count": 25,
   "metadata": {},
   "outputs": [],
   "source": [
    "import joblib"
   ]
  },
  {
   "cell_type": "code",
   "execution_count": 26,
   "metadata": {},
   "outputs": [
    {
     "data": {
      "text/plain": [
       "['massiveNus-interpObj.sav']"
      ]
     },
     "execution_count": 26,
     "metadata": {},
     "output_type": "execute_result"
    }
   ],
   "source": [
    "filename = 'massiveNus-interpObj.sav'\n",
    "joblib.dump(Interpolation, filename)"
   ]
  },
  {
   "cell_type": "code",
   "execution_count": null,
   "metadata": {},
   "outputs": [],
   "source": []
  }
 ],
 "metadata": {
  "hide_input": false,
  "kernelspec": {
   "display_name": "Python 3",
   "language": "python",
   "name": "python3"
  },
  "language_info": {
   "codemirror_mode": {
    "name": "ipython",
    "version": 3
   },
   "file_extension": ".py",
   "mimetype": "text/x-python",
   "name": "python",
   "nbconvert_exporter": "python",
   "pygments_lexer": "ipython3",
   "version": "3.7.1"
  },
  "toc": {
   "base_numbering": 1,
   "nav_menu": {},
   "number_sections": true,
   "sideBar": true,
   "skip_h1_title": false,
   "title_cell": "Table of Contents",
   "title_sidebar": "Contents",
   "toc_cell": false,
   "toc_position": {},
   "toc_section_display": true,
   "toc_window_display": false
  }
 },
 "nbformat": 4,
 "nbformat_minor": 2
}
