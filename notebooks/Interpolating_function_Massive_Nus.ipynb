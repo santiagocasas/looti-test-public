{
 "cells": [
  {
   "cell_type": "markdown",
   "metadata": {},
   "source": [
    "# Emulating the data for MassiveNus"
   ]
  },
  {
   "cell_type": "markdown",
   "metadata": {},
   "source": [
    "## Import Packages"
   ]
  },
  {
   "cell_type": "code",
   "execution_count": 265,
   "metadata": {},
   "outputs": [],
   "source": [
    "import os\n",
    "import sys\n",
    "import numpy as np\n",
    "import pandas as pd\n",
    "import time"
   ]
  },
  {
   "cell_type": "code",
   "execution_count": 266,
   "metadata": {},
   "outputs": [],
   "source": [
    "from looti import dictlearn as dcl\n",
    "from looti import datahandle as dhl\n",
    "from looti import PlottingModule as pm\n",
    "\n",
    "from looti import tools as too\n",
    "from looti import PlottingModule as pm"
   ]
  },
  {
   "cell_type": "code",
   "execution_count": 267,
   "metadata": {},
   "outputs": [
    {
     "name": "stdout",
     "output_type": "stream",
     "text": [
      "The autoreload extension is already loaded. To reload it, use:\n",
      "  %reload_ext autoreload\n"
     ]
    }
   ],
   "source": [
    "%matplotlib inline\n",
    "%load_ext autoreload\n",
    "%autoreload 2\n",
    "%reload_ext autoreload"
   ]
  },
  {
   "cell_type": "markdown",
   "metadata": {},
   "source": [
    "# Import Data"
   ]
  },
  {
   "cell_type": "markdown",
   "metadata": {},
   "source": [
    "The data is imported from pandas Dataframes which have been previously created using the `read_files` module.\n",
    "The DataFrames contain the **k-grid** and the **power spectrum** at each redshift and each parameter variation, for the *extended model* and the *reference model*."
   ]
  },
  {
   "cell_type": "markdown",
   "metadata": {},
   "source": [
    "### Specify Paths"
   ]
  },
  {
   "cell_type": "markdown",
   "metadata": {},
   "source": [
    "The DataFrames of the *extented model* and the *reference model* should be stored inside the same `data_folder`. The results of the experiments(plots, interpolation functions) are stored inside `the results_folder`"
   ]
  },
  {
   "cell_type": "code",
   "execution_count": 268,
   "metadata": {},
   "outputs": [],
   "source": [
    "data_folder = '../../SimulationData/Massive_Nus/'\n",
    "results_folder = './results/'"
   ]
  },
  {
   "cell_type": "code",
   "execution_count": 269,
   "metadata": {},
   "outputs": [],
   "source": [
    "too.mkdirp(results_folder)    ## If directory does not exists, it is created here"
   ]
  },
  {
   "cell_type": "markdown",
   "metadata": {},
   "source": [
    "### Load MassiveNus dataframes"
   ]
  },
  {
   "cell_type": "markdown",
   "metadata": {},
   "source": [
    "The user has **two options** : provide the power **spectra** of the *extended* and *reference model* **OR** provide directly the **ratios** between these two models.\n",
    "\n",
    "**Case 1** (spectra): user provides :\n",
    "- datafile_ext : filename containing the power spectra of the extended model\n",
    "- datafile_ref : filename containing the power spectra of the reference model (i.e. LCDM)\n",
    "\n",
    "**Case 2** (ratios): user provides :\n",
    "- datafile_ext : filename containing the ratios between the extended model and the reference model"
   ]
  },
  {
   "cell_type": "code",
   "execution_count": 270,
   "metadata": {},
   "outputs": [],
   "source": [
    "###Name of the file for the external input data, without the extension\n",
    "datafile_ext = 'Massive_Nus'\n",
    "###Name of the file for the LCDM input data\n",
    "datafile_ref = 'Massive_Nus_LCDM'"
   ]
  },
  {
   "cell_type": "markdown",
   "metadata": {},
   "source": [
    "The following functions load the data into a object `emulation_data`. When the ratios are directly provide the user must indicate : `ratio_mode=True`"
   ]
  },
  {
   "cell_type": "code",
   "execution_count": 271,
   "metadata": {},
   "outputs": [],
   "source": [
    "emulation_data = dhl.DataHandle( datafile_ext, data_folder, datafile_ref, num_parameters=3) \n",
    "emulation_data.read_csv_pandas() "
   ]
  },
  {
   "cell_type": "markdown",
   "metadata": {},
   "source": [
    "## Calculate power spectra ratios at all redshifts available"
   ]
  },
  {
   "cell_type": "markdown",
   "metadata": {},
   "source": [
    "Available **redshifts** are stored in the attribute `z_vals`"
   ]
  },
  {
   "cell_type": "code",
   "execution_count": 272,
   "metadata": {},
   "outputs": [
    {
     "data": {
      "text/plain": [
       "array([0.    , 0.2632, 0.5263, 0.7895, 1.0526, 1.3158, 1.5789, 1.8421,\n",
       "       2.1053, 2.3684, 2.6316, 2.8947, 3.1579, 3.4211, 3.6842, 3.9474,\n",
       "       4.2105, 4.4737, 4.7368, 5.    ])"
      ]
     },
     "execution_count": 272,
     "metadata": {},
     "output_type": "execute_result"
    }
   ],
   "source": [
    "# Available redshifts\n",
    "emulation_data.z_vals"
   ]
  },
  {
   "cell_type": "markdown",
   "metadata": {},
   "source": [
    "The function `calculate_ratio_by_redshifts` computes the ratio between the *extended* and *reference* model at each **redshit** passed as argument.\n",
    "\n",
    "The user can optionally decide to **normalize** the data by passing `normalize=False`. This option will force all the ratios to be equal to 1 at k = `pos_norm`"
   ]
  },
  {
   "cell_type": "code",
   "execution_count": 273,
   "metadata": {},
   "outputs": [],
   "source": [
    "## Set normalize=False, since Fitting Formulae are already normalized\n",
    "## First argument contains all the redshifts at which simulations are available\n",
    "emulation_data.calculate_ratio_by_redshifts(emulation_data.z_vals,normalize=True)"
   ]
  },
  {
   "cell_type": "markdown",
   "metadata": {},
   "source": [
    "# Define Parameters"
   ]
  },
  {
   "cell_type": "markdown",
   "metadata": {},
   "source": [
    "Available parameters are stored in the attribute `emulation_data.extparam_vals`"
   ]
  },
  {
   "cell_type": "code",
   "execution_count": 274,
   "metadata": {
    "scrolled": true
   },
   "outputs": [
    {
     "data": {
      "text/plain": [
       "array([0.06271, 0.06522, 0.06773, 0.07024, 0.07275, 0.07526, 0.07778,\n",
       "       0.0803 , 0.08282, 0.08535, 0.08788, 0.09041, 0.09295, 0.0955 ,\n",
       "       0.09805, 0.1    , 0.10061, 0.10318, 0.10575, 0.10833, 0.11092,\n",
       "       0.11351, 0.11612, 0.11874, 0.12136, 0.124  , 0.12665, 0.12931,\n",
       "       0.13198, 0.13467, 0.13737, 0.14008, 0.14281, 0.14556, 0.14832,\n",
       "       0.1511 , 0.15389, 0.15671, 0.15954, 0.1624 , 0.16527, 0.16817,\n",
       "       0.17109, 0.17404, 0.17701, 0.18001, 0.18303, 0.18409, 0.18608,\n",
       "       0.18917, 0.19228, 0.19543, 0.19861, 0.20183, 0.20235, 0.20508,\n",
       "       0.20837, 0.21171, 0.2118 , 0.21508, 0.21846, 0.21851, 0.22198,\n",
       "       0.22371, 0.2255 , 0.22808, 0.22907, 0.23187, 0.2327 , 0.23522,\n",
       "       0.23638, 0.23825, 0.24013, 0.24102, 0.24359, 0.24394, 0.24598,\n",
       "       0.24782, 0.24823, 0.25036, 0.25177, 0.25238, 0.25432, 0.2558 ,\n",
       "       0.25616, 0.25794, 0.25966, 0.25991, 0.26132, 0.26292, 0.26411,\n",
       "       0.26449, 0.26601, 0.26749, 0.2684 , 0.26894, 0.27035, 0.27174,\n",
       "       0.27278, 0.2731 , 0.27444, 0.27575, 0.27705, 0.27728, 0.27832,\n",
       "       0.27958, 0.28082, 0.28188, 0.28205, 0.28327, 0.28447, 0.28566,\n",
       "       0.28661, 0.28684, 0.28802, 0.28918, 0.29034, 0.29147, 0.29149,\n",
       "       0.29264, 0.29378, 0.29491, 0.29605, 0.29647, 0.29718, 0.29831,\n",
       "       0.29944, 0.3    , 0.30056, 0.30162, 0.30169, 0.30282, 0.30395,\n",
       "       0.30509, 0.30622, 0.30694, 0.30736, 0.30851, 0.30966, 0.31082,\n",
       "       0.31198, 0.31244, 0.31316, 0.31434, 0.31553, 0.31673, 0.31795,\n",
       "       0.31814, 0.31918, 0.32042, 0.32168, 0.32295, 0.32406, 0.32425,\n",
       "       0.32556, 0.3269 , 0.32826, 0.32965, 0.33021, 0.33106, 0.33251,\n",
       "       0.33399, 0.33551, 0.33664, 0.33708, 0.33868, 0.34034, 0.34206,\n",
       "       0.34337, 0.34384, 0.34568, 0.34762, 0.34964, 0.35044, 0.35177,\n",
       "       0.35402, 0.35641, 0.35789, 0.35898, 0.36175, 0.36478, 0.36578,\n",
       "       0.36813, 0.37417, 0.37629, 0.38154, 0.38317, 0.3882 , 0.39287,\n",
       "       0.39765, 0.40343, 0.41504, 0.41591, 0.428  , 0.44273, 0.45988,\n",
       "       0.48062, 0.50723, 0.54543, 0.6    , 0.62036, 1.2886 , 1.4164 ,\n",
       "       1.4826 , 1.5292 , 1.5659 , 1.5966 , 1.6231 , 1.6465 , 1.6678 ,\n",
       "       1.6872 , 1.7051 , 1.7219 , 1.7376 , 1.7525 , 1.7667 , 1.7802 ,\n",
       "       1.7932 , 1.8056 , 1.8176 , 1.8292 , 1.8405 , 1.862  , 1.8724 ,\n",
       "       1.8826 , 1.8925 , 1.9022 , 1.9117 , 1.9211 , 1.9303 , 1.9393 ,\n",
       "       1.9483 , 1.9571 , 1.9658 , 1.9744 , 1.9829 , 1.9913 , 1.9996 ,\n",
       "       2.0079 , 2.0161 , 2.0243 , 2.0324 , 2.0404 , 2.0484 , 2.0564 ,\n",
       "       2.0644 , 2.0723 , 2.0802 , 2.0882 , 2.0961 , 2.1    , 2.1039 ,\n",
       "       2.1118 , 2.1198 , 2.1277 , 2.1356 , 2.1436 , 2.1516 , 2.1596 ,\n",
       "       2.1676 , 2.1757 , 2.1839 , 2.1921 , 2.2004 , 2.2087 , 2.2171 ,\n",
       "       2.2256 , 2.2342 , 2.2429 , 2.2517 , 2.2607 , 2.2697 , 2.2789 ,\n",
       "       2.2883 , 2.2978 , 2.3075 , 2.3174 , 2.3276 , 2.338  , 2.3486 ,\n",
       "       2.3595 , 2.3708 , 2.3824 , 2.3944 , 2.4068 , 2.4198 , 2.4333 ,\n",
       "       2.4475 , 2.4624 , 2.4781 , 2.4949 , 2.5128 , 2.5322 , 2.5535 ,\n",
       "       2.5769 , 2.6034 , 2.6341 , 2.6708 , 2.7174 , 2.7836 , 2.9114 ])"
      ]
     },
     "execution_count": 274,
     "metadata": {},
     "output_type": "execute_result"
    }
   ],
   "source": [
    "### Available parameters \n",
    "emulation_data.extparam_vals"
   ]
  },
  {
   "cell_type": "code",
   "execution_count": 275,
   "metadata": {},
   "outputs": [],
   "source": [
    "### Available parameters \n",
    "n_train = 102 # Number of training vectors without taking acount the extrema \n",
    "n_test = 1 # Number of test vectors without taking acount the extrema\n",
    "n_splits = 1  # Number of splits\n",
    "test_indices=[[1]]  ## List of list of indices, one list per split"
   ]
  },
  {
   "cell_type": "code",
   "execution_count": 276,
   "metadata": {},
   "outputs": [],
   "source": [
    "emulation_data.calculate_data_split(n_train=n_train, ##number of training vectors/ redshift\n",
    "                                    n_test=n_test, ##number of test vectors\n",
    "                                    verbosity=0,\n",
    "                                    manual_split=True,\n",
    "                                    test_indices=test_indices,\n",
    "                                    train_redshift_indices=[0],##Indices of the redshifts used for the train vect.\n",
    "                                    test_redshift_indices=[0]) ##Indices of the redshifts used for the test vect."
   ]
  },
  {
   "cell_type": "markdown",
   "metadata": {},
   "source": [
    "#  Define Classes (will be in a module)"
   ]
  },
  {
   "cell_type": "code",
   "execution_count": null,
   "metadata": {},
   "outputs": [],
   "source": [
    "#!/usr/bin/env python3\n",
    "# -*- coding: utf-8 -*-\n",
    "\"\"\"\n",
    "Created on Tue Aug 18 16:47:54 2020\n",
    "\n",
    "@author: raphaelbaena\n",
    "\"\"\"\n",
    "\n",
    "class Interpolating_function :\n",
    "    def __init__(self):\n",
    "        self.redshift_available = []\n",
    "        self.list_interpolation_function = []\n",
    "        \n",
    "    def predict(self,z,k,parameters):\n",
    "        \n",
    "        parameters = [z] + parameters\n",
    "        parameters = np.atleast_2d(parameters)\n",
    "        ind_z_min,ind_z_max= self.extrema(z)\n",
    "        z_min, z_max = self.redshift_available[ind_z_min],self.redshift_available[ind_z_max]\n",
    "        \n",
    "        f_min = self.list_interpolation_function[ind_z_min].predict(k,parameters)\n",
    "        f_max = self.list_interpolation_function[ind_z_max].predict(k,parameters)\n",
    "        \n",
    "        interpolation_function_at_z = interpolate.interp1d([z_min, z_max ],[f_min,f_max])\n",
    "        return float(interpolation_function_at_z (z))\n",
    "    \n",
    "    def extrema(self,z):\n",
    "        ind_argmin = np.abs(np.array(self.redshift_available) - z).argmin()\n",
    "        if self.redshift_available[ind_argmin]>z:\n",
    "            return ind_argmin-1,ind_argmin\n",
    "        else : \n",
    "            return ind_argmin,ind_argmin+1\n",
    "        \n",
    "from scipy import interpolate\n",
    "\n",
    "class Interpolating_function_redshift :\n",
    "    def __init__(self,emulation_data,interpolation_function,redshift,normalize = False):\n",
    "        self.k_grid = np.power(10,emulation_data.masked_k_grid)\n",
    "        self.redshift =  redshift\n",
    "        self.spectra_ref = emulation_data.df_ref.loc[emulation_data.level_of_noise,\n",
    "                                                     self.redshift].values.flatten()[emulation_data.mask_true]\n",
    "        self.interpolation_function_factor = dcl.Interpolate_over_factor(emulation_data, pos_norm = emulation_data.pos_norm)\n",
    "        self.interpolation_function = interpolation_function\n",
    "        self.normalize = normalize \n",
    "        self.parameters_predicted=[] ##talk with Santiago about it !\n",
    "        self.saved_interpolation ={}\n",
    "    def predict_each_k(self,parameters):\n",
    "        ratio = np.array(list(self.interpolation_function.predict(parameters).values())).flatten() \n",
    "        spectra = ratio * self.spectra_ref\n",
    "        if self.normalize == True :\n",
    "            F_norm = self.interpolation_function_factor.predict(parameters)\n",
    "        else:\n",
    "            F_norm = 1\n",
    "            print(\"f\",F_norm)\n",
    "        spectra_normalised = spectra* F_norm\n",
    "       \n",
    "        return spectra_normalised \n",
    "    def predict(self,k,parameters,linear_grid=False):\n",
    "        parameters = np.atleast_2d(parameters)\n",
    "        tupled_param = tuple(parameters.flatten())\n",
    "        \n",
    "        if tupled_param  not in self.parameters_predicted:\n",
    "            self.interpolation_function_each_k = interpolate.interp1d(self.k_grid,self.predict_each_k(parameters))\n",
    "            self.parameters_predicted.append(tupled_param)\n",
    "            \n",
    "            self.saved_interpolation[tupled_param ]=self.interpolation_function_each_k\n",
    "        return float(self.saved_interpolation[tupled_param ](k))\n",
    "        \n",
    "\n",
    "\n"
   ]
  },
  {
   "cell_type": "code",
   "execution_count": 277,
   "metadata": {},
   "outputs": [],
   "source": [
    "npca = 80"
   ]
  },
  {
   "cell_type": "code",
   "execution_count": 373,
   "metadata": {},
   "outputs": [
    {
     "name": "stdout",
     "output_type": "stream",
     "text": [
      "('Shape of PCA matrix: (100, 80)',)\n",
      "('Number of PCA components: 80',)\n",
      "('Shape of PCA matrix: (100, 80)',)\n",
      "('Number of PCA components: 80',)\n",
      "('Shape of PCA matrix: (100, 80)',)\n",
      "('Number of PCA components: 80',)\n",
      "('Shape of PCA matrix: (100, 80)',)\n",
      "('Number of PCA components: 80',)\n",
      "('Shape of PCA matrix: (100, 80)',)\n",
      "('Number of PCA components: 80',)\n",
      "('Shape of PCA matrix: (100, 80)',)\n",
      "('Number of PCA components: 80',)\n",
      "('Shape of PCA matrix: (100, 80)',)\n",
      "('Number of PCA components: 80',)\n",
      "('Shape of PCA matrix: (100, 80)',)\n",
      "('Number of PCA components: 80',)\n",
      "('Shape of PCA matrix: (100, 80)',)\n",
      "('Number of PCA components: 80',)\n"
     ]
    },
    {
     "name": "stderr",
     "output_type": "stream",
     "text": [
      "/Users/raphaelbaena/opt/anaconda3/lib/python3.7/site-packages/sklearn/gaussian_process/_gpr.py:494: ConvergenceWarning: lbfgs failed to converge (status=2):\n",
      "ABNORMAL_TERMINATION_IN_LNSRCH.\n",
      "\n",
      "Increase the number of iterations (max_iter) or scale the data as shown in:\n",
      "    https://scikit-learn.org/stable/modules/preprocessing.html\n",
      "  _check_optimize_result(\"lbfgs\", opt_res)\n"
     ]
    },
    {
     "name": "stdout",
     "output_type": "stream",
     "text": [
      "('Shape of PCA matrix: (100, 80)',)\n",
      "('Number of PCA components: 80',)\n",
      "('Shape of PCA matrix: (100, 80)',)\n",
      "('Number of PCA components: 80',)\n",
      "('Shape of PCA matrix: (100, 80)',)\n",
      "('Number of PCA components: 80',)\n",
      "('Shape of PCA matrix: (100, 80)',)\n",
      "('Number of PCA components: 80',)\n",
      "('Shape of PCA matrix: (100, 80)',)\n",
      "('Number of PCA components: 80',)\n"
     ]
    },
    {
     "name": "stderr",
     "output_type": "stream",
     "text": [
      "/Users/raphaelbaena/opt/anaconda3/lib/python3.7/site-packages/sklearn/gaussian_process/_gpr.py:494: ConvergenceWarning: lbfgs failed to converge (status=2):\n",
      "ABNORMAL_TERMINATION_IN_LNSRCH.\n",
      "\n",
      "Increase the number of iterations (max_iter) or scale the data as shown in:\n",
      "    https://scikit-learn.org/stable/modules/preprocessing.html\n",
      "  _check_optimize_result(\"lbfgs\", opt_res)\n"
     ]
    },
    {
     "name": "stdout",
     "output_type": "stream",
     "text": [
      "('Shape of PCA matrix: (100, 80)',)\n",
      "('Number of PCA components: 80',)\n",
      "('Shape of PCA matrix: (100, 80)',)\n",
      "('Number of PCA components: 80',)\n",
      "('Shape of PCA matrix: (100, 80)',)\n",
      "('Number of PCA components: 80',)\n"
     ]
    },
    {
     "name": "stderr",
     "output_type": "stream",
     "text": [
      "/Users/raphaelbaena/opt/anaconda3/lib/python3.7/site-packages/sklearn/gaussian_process/_gpr.py:494: ConvergenceWarning: lbfgs failed to converge (status=2):\n",
      "ABNORMAL_TERMINATION_IN_LNSRCH.\n",
      "\n",
      "Increase the number of iterations (max_iter) or scale the data as shown in:\n",
      "    https://scikit-learn.org/stable/modules/preprocessing.html\n",
      "  _check_optimize_result(\"lbfgs\", opt_res)\n"
     ]
    },
    {
     "name": "stdout",
     "output_type": "stream",
     "text": [
      "('Shape of PCA matrix: (100, 80)',)\n",
      "('Number of PCA components: 80',)\n",
      "('Shape of PCA matrix: (100, 80)',)\n",
      "('Number of PCA components: 80',)\n",
      "('Shape of PCA matrix: (100, 80)',)\n",
      "('Number of PCA components: 80',)\n"
     ]
    }
   ],
   "source": [
    "Interpolation = Interpolating_function()\n",
    "\n",
    "for i,redshift in enumerate(emulation_data.z_requested):\n",
    "\n",
    "    ratios_predicted , emulation_data,interpolation_function = dcl.Predict_ratio(emulation_data,Operator = \"PCA\",\n",
    "                                                          train_noise = 1e-3, ##noise for the GP's kernel\n",
    "                                                          gp_n_rsts = 10,##times allowed to restart the optimiser\n",
    "                                                          ncomp=npca , ##number of components\n",
    "                                                          gp_const = 1, ##Constant for the RBF kernel\n",
    "                                                          gp_length = 1 , ## Length for  GP \n",
    "                                                          interp_type='GP', ##kind of interpolator,e.g int1d or GP \n",
    "                                                          n_splits = 1, ##number of splits\n",
    "                                                          test_indices=test_indices,\n",
    "                                                         train_redshift_indices = redshift_indice,\n",
    "                                                         test_redshift_indices = redshift_indice,##indices of the test vectors\n",
    "                                                         min_k =1e-2,max_k=10e1,return_interpolator=True)\n",
    "    function = Interpolating_function_redshift (emulation_data,interpolation_function,redshift,normalize=True)\n",
    "    Interpolation.redshift_available.append(redshift)\n",
    "    Interpolation.list_interpolation_function.append(function)\n",
    "    "
   ]
  },
  {
   "cell_type": "markdown",
   "metadata": {},
   "source": [
    "# Load and save the inperpolation function"
   ]
  },
  {
   "cell_type": "code",
   "execution_count": 374,
   "metadata": {},
   "outputs": [],
   "source": [
    "import pickle\n",
    "with open('interpolating_function_Massive_Nus', 'wb') as f:\n",
    "    pickle.dump(Interpolation, f)\n",
    "\n",
    "with open('interpolating_function_Massive_Nus', 'rb') as f:\n",
    "    Interpolation_loaded = pickle.load(f)\n"
   ]
  },
  {
   "cell_type": "code",
   "execution_count": 378,
   "metadata": {},
   "outputs": [
    {
     "data": {
      "text/plain": [
       "[<matplotlib.lines.Line2D at 0x1a39af42d0>]"
      ]
     },
     "execution_count": 378,
     "metadata": {},
     "output_type": "execute_result"
    },
    {
     "data": {
      "image/png": "[encoded data removed]",
      "text/plain": [
       "<Figure size 432x288 with 1 Axes>"
      ]
     },
     "metadata": {
      "needs_background": "light"
     },
     "output_type": "display_data"
    }
   ],
   "source": [
    "plt.semilogx(np.power(10,emulation_data.masked_k_grid),[Interpolation_loaded.predict(0.0,k,[0.06271,0.38154,2.2004]) for k in np.power(10,emulation_data.masked_k_grid) ])\n",
    "\n",
    "plt.semilogx(np.power(10,emulation_data.masked_k_grid),emulation_data.df_ext.loc[\"theo\",0.0,\"mnv\",0.06271,\"om\",0.38154,\"As\",2.2004].values)"
   ]
  }
 ],
 "metadata": {
  "hide_input": false,
  "kernelspec": {
   "display_name": "Python 3",
   "language": "python",
   "name": "python3"
  },
  "language_info": {
   "codemirror_mode": {
    "name": "ipython",
    "version": 3
   },
   "file_extension": ".py",
   "mimetype": "text/x-python",
   "name": "python",
   "nbconvert_exporter": "python",
   "pygments_lexer": "ipython3",
   "version": "3.7.7"
  },
  "toc": {
   "base_numbering": 1,
   "nav_menu": {},
   "number_sections": true,
   "sideBar": true,
   "skip_h1_title": false,
   "title_cell": "Table of Contents",
   "title_sidebar": "Contents",
   "toc_cell": false,
   "toc_position": {},
   "toc_section_display": true,
   "toc_window_display": false
  }
 },
 "nbformat": 4,
 "nbformat_minor": 2
}
